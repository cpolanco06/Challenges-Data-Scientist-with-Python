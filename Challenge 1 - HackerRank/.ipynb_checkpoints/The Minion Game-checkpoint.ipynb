{
 "cells": [
  {
   "cell_type": "code",
   "execution_count": 11,
   "metadata": {},
   "outputs": [],
   "source": [
    "def minion_game(string):\n",
    "    player1_vow = 0\n",
    "    player2_con = 0\n",
    "    vowels_list = ['A', 'E', 'I', 'O', 'U']\n",
    "    str_len = len(string)\n",
    "    \n",
    "    for i, l in enumerate(string):\n",
    "        if l in vowels_list:\n",
    "            player1_vow += str_len - i\n",
    "        else:\n",
    "            player2_con += str_len - i\n",
    "    \n",
    "    #Otra forma\n",
    "    #for i in range(str_len):\n",
    "    #    if string[i] in 'AEIOU':\n",
    "    #        player1_vow += str_len - i\n",
    "    #    else :\n",
    "    #        player2_con += str_len - i\n",
    "    \n",
    "    if player1_vow > player2_con:\n",
    "        print('Kevin', player1_vow)\n",
    "    elif player1_vow < player2_con:\n",
    "        print('Stuart', player2_con)\n",
    "    else:\n",
    "        print('Draw')"
   ]
  },
  {
   "cell_type": "code",
   "execution_count": 13,
   "metadata": {},
   "outputs": [
    {
     "name": "stdout",
     "output_type": "stream",
     "text": [
      "BANANA\n",
      "Stuart 12\n"
     ]
    }
   ],
   "source": [
    "if __name__ == '__main__':\n",
    "    s = input()\n",
    "    minion_game(s)"
   ]
  },
  {
   "cell_type": "code",
   "execution_count": null,
   "metadata": {},
   "outputs": [],
   "source": []
  }
 ],
 "metadata": {
  "kernelspec": {
   "display_name": "Python 3",
   "language": "python",
   "name": "python3"
  },
  "language_info": {
   "codemirror_mode": {
    "name": "ipython",
    "version": 3
   },
   "file_extension": ".py",
   "mimetype": "text/x-python",
   "name": "python",
   "nbconvert_exporter": "python",
   "pygments_lexer": "ipython3",
   "version": "3.7.6"
  }
 },
 "nbformat": 4,
 "nbformat_minor": 4
}
